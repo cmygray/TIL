{
 "cells": [
  {
   "cell_type": "code",
   "execution_count": 1,
   "metadata": {
    "collapsed": true
   },
   "outputs": [],
   "source": [
    "#최종결과값 산출 시 참조할 딕셔너리 생성\n",
    "result_dic = {}\n",
    "char = '0123456789BFHCLKEJI'\n",
    "for i in range(19):\n",
    "    result_dic[i] = char[i]"
   ]
  },
  {
   "cell_type": "code",
   "execution_count": 2,
   "metadata": {
    "collapsed": true
   },
   "outputs": [],
   "source": [
    "#step1. int는 non-iterable type이므로 str을 거쳐서 슬라이싱.\n",
    "def step1(n):\n",
    "    n = str(n)\n",
    "    two_str = [n[i*2:i*2+2] for i in range(3)]\n",
    "#    print(two_str)\n",
    "    two_int = [int(i) for i in two_str]\n",
    "#    print(two_int)\n",
    "    return two_int"
   ]
  },
  {
   "cell_type": "code",
   "execution_count": 3,
   "metadata": {
    "scrolled": true
   },
   "outputs": [
    {
     "data": {
      "text/plain": [
       "[26, 77, 23]"
      ]
     },
     "execution_count": 3,
     "metadata": {},
     "output_type": "execute_result"
    }
   ],
   "source": [
    "step1(267723)"
   ]
  },
  {
   "cell_type": "code",
   "execution_count": 4,
   "metadata": {},
   "outputs": [],
   "source": [
    "def step2(n):\n",
    "    return [i // 10 + i % 10 for i in step1(n)]"
   ]
  },
  {
   "cell_type": "code",
   "execution_count": 5,
   "metadata": {
    "scrolled": true
   },
   "outputs": [
    {
     "data": {
      "text/plain": [
       "[8, 14, 5]"
      ]
     },
     "execution_count": 5,
     "metadata": {},
     "output_type": "execute_result"
    }
   ],
   "source": [
    "step2(267723)"
   ]
  },
  {
   "cell_type": "code",
   "execution_count": 12,
   "metadata": {},
   "outputs": [],
   "source": [
    "def step3(n):\n",
    "    former = [result_dic[step1(n)[i-1] % step2(n)[i]] for i in range(3)]\n",
    "    latter = [result_dic[step1(n)[i+1] % step2(n)[i]] for i in range(-3,0)]\n",
    "    result = ''\n",
    "    result = result + former[1] + latter[1] + former[2] + latter[1] + former[0] + latter[2]\n",
    "    return result"
   ]
  },
  {
   "cell_type": "code",
   "execution_count": 13,
   "metadata": {},
   "outputs": [
    {
     "data": {
      "text/plain": [
       "'H92971'"
      ]
     },
     "execution_count": 13,
     "metadata": {},
     "output_type": "execute_result"
    }
   ],
   "source": [
    "step3(267723)"
   ]
  }
 ],
 "metadata": {
  "kernelspec": {
   "display_name": "Python 3",
   "language": "python",
   "name": "python3"
  },
  "language_info": {
   "codemirror_mode": {
    "name": "ipython",
    "version": 3
   },
   "file_extension": ".py",
   "mimetype": "text/x-python",
   "name": "python",
   "nbconvert_exporter": "python",
   "pygments_lexer": "ipython3",
   "version": "3.6.1"
  }
 },
 "nbformat": 4,
 "nbformat_minor": 2
}

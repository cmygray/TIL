{
 "cells": [
  {
   "cell_type": "markdown",
   "metadata": {},
   "source": [
    "## 문제: 콜라츠 추측\n",
    "1937년 Collatz란 사람에 의해 제기된 이 추측은, 입력된 수가 짝수라면 2로 나누고, 홀수라면 3을 곱하고 1을 더한 다음, 결과로 나온 수에 같은 작업을 1이 될 때까지 반복할 경우 모든 수가 1이 된다는 추측입니다. 예를 들어, 입력된 수가 6이라면 6→3→10→5→16→8→4→2→1 이 되어 총 8번 만에 1이 됩니다. collatz 함수를 만들어 입력된 수가 몇 번 만에 1이 되는지 반환해 주세요. 단, 500번을 반복해도 1이 되지 않는다면 –1을 반환해 주세요.\n",
    "\n",
    "---\n",
    "\n",
    "## 풀이\n",
    "* while문의 조건으로 반복횟수와 결과 체크\n",
    "* 매 반복마다 횟수(`result`) 1씩 누적. 초기값은 1.\n",
    "\n",
    "딱히 생각할 게 없어서.. 일단 작성"
   ]
  },
  {
   "cell_type": "code",
   "execution_count": 15,
   "metadata": {},
   "outputs": [],
   "source": [
    "# python\n",
    "def collatz(num):\n",
    "    result = 1\n",
    "    while num / 2 != 1 and result != 500:\n",
    "        result += 1\n",
    "        if num % 2 == 0:\n",
    "            num = num / 2\n",
    "        else:\n",
    "            num = num * 3 + 1\n",
    "    return result"
   ]
  },
  {
   "cell_type": "markdown",
   "metadata": {},
   "source": [
    "틀렸다(!) 500회 반복 시 -1 반환하는 것을 빼먹었다. 따라서 반복문 밖에 result가 500일 때 -1로 재할당하는 구문을 추가한다. 500번만에 딱 1이 되는 경우도 있을 테니 2로 나눠서 1이 되는지도 체크한다."
   ]
  },
  {
   "cell_type": "code",
   "execution_count": 16,
   "metadata": {
    "collapsed": true
   },
   "outputs": [],
   "source": [
    "# python\n",
    "def collatz(num):\n",
    "    result = 1\n",
    "    while num / 2 != 1 and result != 500:\n",
    "        result += 1\n",
    "        if num % 2 == 0:\n",
    "            num = num / 2\n",
    "        else:\n",
    "            num = num * 3 + 1\n",
    "    if num / 2 != 1 and result == 500:\n",
    "        result = -1\n",
    "    return result"
   ]
  },
  {
   "cell_type": "markdown",
   "metadata": {},
   "source": [
    "자바스크립트로도 풀어보자.\n",
    "1. 초기값을 500으로 한 while문을 사용. `while(i--)` 다만 이 방법은 반복수를 따로 계산해줘야 하는 불편함이 있다.\n",
    "1. `while(i < 500)` 을 사용하면 반복문 탈출 시점의 `i`를 재활용 할 수 있다.\n",
    "\n",
    "2번 방법에 `break`를 추가해서 함수를 작성한다."
   ]
  },
  {
   "cell_type": "markdown",
   "metadata": {},
   "source": [
    "```javascript\n",
    "function collatz(num) {\n",
    "  var answer = 0;\n",
    "  while (answer < 500) {\n",
    "    answer += 1;\n",
    "    if (num / 2 == 1) {\n",
    "      break;\n",
    "    } else if (num % 2) {\n",
    "      num = num * 3 + 1;\n",
    "    } else {\n",
    "      num = num / 2;\n",
    "    }\n",
    "  }\n",
    "  return answer;\n",
    "}\n",
    "```"
   ]
  },
  {
   "cell_type": "markdown",
   "metadata": {},
   "source": [
    "아... 이번에도 500 처리를 빼먹었다. 반복문 밖에서 500을 -1로 바꾸는 구문을 추가한다.  \n",
    "```javascript\n",
    "function collatz(num) {\n",
    "  var answer = 0;\n",
    "  while (answer < 500) {\n",
    "    answer += 1;\n",
    "    if (num / 2 == 1) {\n",
    "      break;\n",
    "    } else if (num % 2) {\n",
    "      num = num * 3 + 1;\n",
    "    } else {\n",
    "      num = num / 2;\n",
    "    }\n",
    "  }\n",
    "  if (answer == 500) {\n",
    "    answer = -1;\n",
    "  }\n",
    "  return answer;\n",
    "}\n",
    "```"
   ]
  },
  {
   "cell_type": "markdown",
   "metadata": {},
   "source": [
    "## 문제_ 다트 게임 점수 계산\n",
    "1. 다트 게임은 총 3번의 기회로 구성된다.\n",
    "1. 각 기회마다 얻을 수 있는 점수는 0점에서 10점까지이다.\n",
    "1. 점수와 함께 Single(`S`), Double(`D`), Triple(`T`) 영역이 존재하고 각 영역 당첨 시 점수에서 1제곱, 2제곱, 3제곱 (점수^1 , 점수^2 , 점수^3 )으로 계산된다.\n",
    "1. 옵션으로 스타상(`*`) , 아차상(`#`)이 존재하며 스타상(`*`) 당첨 시 해당 점수와 바로 전에 얻은 점수를 각 2배로 만든다. 아차상(`#`) 당첨 시 해당 점수는 마이너스된다.\n",
    "1. 스타상(`*`)은 첫 번째 기회에서도 나올 수 있다. 이 경우 첫 번째 스타상(`*`)의 점수만 2배가 된다. (예제 4번 참고)\n",
    "1. 스타상(`*`)의 효과는 다른 스타상(`*`)의 효과와 중첩될 수 있다. 이 경우 중첩된 스타상(`*`) 점수는 4배가 된다. (예제 4번 참고)\n",
    "1. 스타상(`*`)의 효과는 아차상(`#`)의 효과와 중첩될 수 있다. 이 경우 중첩된 아차상(`#`)의 점수는 -2배가 된다. (예제 5번 참고)\n",
    "1. Single(`S`), Double(`D`), Triple(`T`)은 점수마다 하나씩 존재한다.\n",
    "1. 스타상(`*`), 아차상(`#`)은 점수마다 둘 중 하나만 존재할 수 있으며, 존재하지 않을 수도 있다.\n",
    "\n",
    "0~10의 정수와 문자 `S, D, T, *, #`로 구성된 문자열이 입력될 시 총점수를 반환하는 함수를 작성하라.\n",
    "\n",
    "#### 입력 형식\n",
    "“점수|보너스|[옵션]”으로 이루어진 문자열 3세트.  \n",
    "예) `1S2D*3T`\n",
    "* 점수는 0에서 10 사이의 정수이다.\n",
    "* 보너스는 S, D, T 중 하나이다.\n",
    "* 옵선은 `*`이나 `#` 중 하나이며, 없을 수도 있다.\n",
    "\n",
    "#### 출력 형식\n",
    "3번의 기회에서 얻은 점수 합계에 해당하는 정수값을 출력한다.  \n",
    "예) 37\n",
    "\n",
    "#### 입출력 예제\n",
    "|예제|dartResult|answer|설명|\n",
    "|:--|:--|:--|:--|:--|\n",
    "|1|1S2D*3T|37|1^1 * 2 + 2^2 * 2 + 3^3|\n",
    "|2|1D2S#10S|\t9|\t1^2 + 2^1 * (-1) + 10^1|\n",
    "|3|1D2S0T|\t3|\t1^2 + 2^1 + 0^3|\n",
    "|4|1S*2T*3S|\t23|\t1^1 * 2 * 2 + 2^3 * 2 + 3^1|\n",
    "|5|1D#2S*3S|\t5|\t1^2 * (-1) * 2 + 2^1 * 2 + 3^1|\n",
    "|6|1T2D3D#|\t-4|\t1^3 + 2^2 + 3^2 * (-1)|\n",
    "|7|1D2S3T*|\t59|\t1^2 + 2^1 * 2 + 3^3 * 2|"
   ]
  }
 ],
 "metadata": {
  "kernelspec": {
   "display_name": "Python 3",
   "language": "python",
   "name": "python3"
  },
  "language_info": {
   "codemirror_mode": {
    "name": "ipython",
    "version": 3
   },
   "file_extension": ".py",
   "mimetype": "text/x-python",
   "name": "python",
   "nbconvert_exporter": "python",
   "pygments_lexer": "ipython3",
   "version": "3.6.1"
  }
 },
 "nbformat": 4,
 "nbformat_minor": 2
}

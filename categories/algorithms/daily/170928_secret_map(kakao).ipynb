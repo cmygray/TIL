{
 "cells": [
  {
   "cell_type": "code",
   "execution_count": 1,
   "metadata": {},
   "outputs": [],
   "source": [
    "def map_decoder(n, arr1, arr2):\n",
    "    bin_arr1 = [int(bin(i)[2:]) for i in arr1]\n",
    "    bin_arr2 = [int(bin(i)[2:]) for i in arr2]\n",
    "    bin_sum = [str(i + j) for i, j in zip(bin_arr1, bin_arr2)]\n",
    "    result = []\n",
    "    for i in bin_sum:\n",
    "        line = ''\n",
    "        if len(i) < n:\n",
    "            i = ' ' * (n - 1) + i\n",
    "        for j in i:\n",
    "            if j == '0':\n",
    "                line += ' '\n",
    "            else:\n",
    "                line += '#'\n",
    "        result.append(line)\n",
    "    return result"
   ]
  },
  {
   "cell_type": "code",
   "execution_count": 2,
   "metadata": {
    "collapsed": true
   },
   "outputs": [],
   "source": [
    "#test\n",
    "n = 6\n",
    "arr1 = [46, 33, 33, 22, 31, 50]\n",
    "arr2 = [27, 56, 19, 14, 14, 10]\n",
    "#[\"######\", \"### #\", \"## ##\", \" #### \", \" #####\", \"### # \"]"
   ]
  },
  {
   "cell_type": "code",
   "execution_count": 3,
   "metadata": {
    "scrolled": false
   },
   "outputs": [
    {
     "data": {
      "text/plain": [
       "['######', '###  #', '##  ##', '######### ', '##########', '### # ']"
      ]
     },
     "execution_count": 3,
     "metadata": {},
     "output_type": "execute_result"
    }
   ],
   "source": [
    "map_decoder(n, arr1, arr2)"
   ]
  }
 ],
 "metadata": {
  "kernelspec": {
   "display_name": "Python 3",
   "language": "python",
   "name": "python3"
  },
  "language_info": {
   "codemirror_mode": {
    "name": "ipython",
    "version": 3
   },
   "file_extension": ".py",
   "mimetype": "text/x-python",
   "name": "python",
   "nbconvert_exporter": "python",
   "pygments_lexer": "ipython3",
   "version": "3.6.1"
  }
 },
 "nbformat": 4,
 "nbformat_minor": 2
}

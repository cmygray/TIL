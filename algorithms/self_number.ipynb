{
 "cells": [
  {
   "cell_type": "code",
   "execution_count": 1,
   "metadata": {},
   "outputs": [],
   "source": [
    "def d(n):\n",
    "    '''\n",
    "    함수 d(n);generator는 양의 정수 n을 인풋으로 받아서,\n",
    "    자기 자신과 각 자릿수를 더한 값을 반환한다.\n",
    "    '''\n",
    "    result = n\n",
    "    for i in str(n):\n",
    "        result += int(i)\n",
    "    return result"
   ]
  },
  {
   "cell_type": "code",
   "execution_count": 2,
   "metadata": {
    "collapsed": true
   },
   "outputs": [],
   "source": [
    "def nonself_numbers(end):\n",
    "    '''\n",
    "    nonself_numbers 함수는 양의 정수 n을 인풋으로 받아서,\n",
    "    0보다 크고 n보다 작은 nonself_number의 리스트를 반환한다.\n",
    "    *nonself_number란 generator가 하나 이상 있는 수라고 전제한다.\n",
    "    '''\n",
    "    result = []\n",
    "    n = 1\n",
    "    while n < end:\n",
    "        if d(n) < end:\n",
    "            result.append(d(n))\n",
    "        n += 1\n",
    "    return result"
   ]
  },
  {
   "cell_type": "code",
   "execution_count": 3,
   "metadata": {},
   "outputs": [],
   "source": [
    "def self_numbers(end):\n",
    "    '''\n",
    "    함수 self_numbers는 양의 정수 n을 인풋으로 받아서,\n",
    "    1부터 n-1까지의 양의 정수의 리스트에서 nonself_numbers를 제외한 후, 그 합을 반환한다.\n",
    "    '''\n",
    "    all_numbers = [i for i in range(1, end)]\n",
    "    result = set(all_numbers) - set(nonself_numbers(end))\n",
    "    return sum(result)"
   ]
  },
  {
   "cell_type": "code",
   "execution_count": 4,
   "metadata": {},
   "outputs": [
    {
     "data": {
      "text/plain": [
       "1227365"
      ]
     },
     "execution_count": 4,
     "metadata": {},
     "output_type": "execute_result"
    }
   ],
   "source": [
    "self_numbers(5000)"
   ]
  }
 ],
 "metadata": {
  "kernelspec": {
   "display_name": "Python 3",
   "language": "python",
   "name": "python3"
  },
  "language_info": {
   "codemirror_mode": {
    "name": "ipython",
    "version": 3
   },
   "file_extension": ".py",
   "mimetype": "text/x-python",
   "name": "python",
   "nbconvert_exporter": "python",
   "pygments_lexer": "ipython3",
   "version": "3.6.1"
  }
 },
 "nbformat": 4,
 "nbformat_minor": 2
}

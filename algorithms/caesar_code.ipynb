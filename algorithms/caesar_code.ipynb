{
 "cells": [
  {
   "cell_type": "code",
   "execution_count": 66,
   "metadata": {},
   "outputs": [],
   "source": [
    "def caesar(s, n):\n",
    "    result = ''\n",
    "    n = n % 26\n",
    "    uni_order = [ord(i) for i in s]\n",
    "    for i in uni_order:\n",
    "        if i == 32:\n",
    "            i = i\n",
    "        elif i < 91 and i + n > 90:\n",
    "            i = i + n - 26\n",
    "        elif i < 123 and i + n > 122:\n",
    "            i = i + n - 26\n",
    "        else:\n",
    "            i = i + n\n",
    "        result += chr(i)\n",
    "    return result"
   ]
  }
 ],
 "metadata": {
  "kernelspec": {
   "display_name": "Python 3",
   "language": "python",
   "name": "python3"
  },
  "language_info": {
   "codemirror_mode": {
    "name": "ipython",
    "version": 3
   },
   "file_extension": ".py",
   "mimetype": "text/x-python",
   "name": "python",
   "nbconvert_exporter": "python",
   "pygments_lexer": "ipython3",
   "version": "3.6.1"
  }
 },
 "nbformat": 4,
 "nbformat_minor": 2
}
